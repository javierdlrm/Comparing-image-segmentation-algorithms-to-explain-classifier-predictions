{
 "cells": [
  {
   "cell_type": "markdown",
   "metadata": {
    "colab_type": "text",
    "id": "Yz7RG8iV2OCT"
   },
   "source": [
    "# COCO"
   ]
  },
  {
   "cell_type": "code",
   "execution_count": 1,
   "metadata": {
    "ExecuteTime": {
     "end_time": "2020-01-06T22:55:39.603556Z",
     "start_time": "2020-01-06T22:55:39.589552Z"
    }
   },
   "outputs": [],
   "source": [
    "%load_ext autoreload\n",
    "%autoreload 2"
   ]
  },
  {
   "cell_type": "code",
   "execution_count": 2,
   "metadata": {
    "ExecuteTime": {
     "end_time": "2020-01-06T22:55:44.949800Z",
     "start_time": "2020-01-06T22:55:39.656951Z"
    },
    "colab": {},
    "colab_type": "code",
    "id": "XeMpmYgE0LNH"
   },
   "outputs": [],
   "source": [
    "%matplotlib inline\n",
    "from pycocotools.coco import COCO\n",
    "import pycocotools.mask as coco_mask\n",
    "import skimage.io as io\n",
    "import matplotlib.pyplot as plt\n",
    "import pylab\n",
    "pylab.rcParams['figure.figsize'] = (8.0, 10.0)"
   ]
  },
  {
   "cell_type": "code",
   "execution_count": 3,
   "metadata": {
    "ExecuteTime": {
     "end_time": "2020-01-06T22:55:46.272244Z",
     "start_time": "2020-01-06T22:55:44.952325Z"
    },
    "colab": {
     "base_uri": "https://localhost:8080/",
     "height": 85
    },
    "colab_type": "code",
    "id": "WxigdwXC2bWE",
    "outputId": "cfdb6a3e-38bb-4946-ce59-af506f4f17b6"
   },
   "outputs": [
    {
     "name": "stdout",
     "output_type": "stream",
     "text": [
      "loading annotations into memory...\n",
      "Done (t=1.16s)\n",
      "creating index...\n",
      "index created!\n"
     ]
    }
   ],
   "source": [
    "dataDir='../coco'\n",
    "dataType='val2017'\n",
    "annFile='{}/annotations/instances_{}.json'.format(dataDir, dataType)\n",
    "coco=COCO(annFile)"
   ]
  },
  {
   "cell_type": "code",
   "execution_count": 4,
   "metadata": {
    "ExecuteTime": {
     "end_time": "2020-01-06T22:55:46.292895Z",
     "start_time": "2020-01-06T22:55:46.275823Z"
    },
    "colab": {
     "base_uri": "https://localhost:8080/",
     "height": 123
    },
    "colab_type": "code",
    "id": "kZscdQwkTGSH",
    "outputId": "740306fa-aab3-4671-edde-4a1209ca32ba"
   },
   "outputs": [
    {
     "name": "stdout",
     "output_type": "stream",
     "text": [
      "COCO categories: \n",
      "person bicycle car motorcycle airplane bus train truck boat traffic light fire hydrant stop sign parking meter bench bird cat dog horse sheep cow elephant bear zebra giraffe backpack umbrella handbag tie suitcase frisbee skis snowboard sports ball kite baseball bat baseball glove skateboard surfboard tennis racket bottle wine glass cup fork knife spoon bowl banana apple sandwich orange broccoli carrot hot dog pizza donut cake chair couch potted plant bed dining table toilet tv laptop mouse remote keyboard cell phone microwave oven toaster sink refrigerator book clock vase scissors teddy bear hair drier toothbrush\n",
      "\n",
      "COCO supercategories: \n",
      "appliance outdoor indoor furniture kitchen person food accessory vehicle animal sports electronic\n"
     ]
    }
   ],
   "source": [
    "# coco images\n",
    "cats = coco.loadCats(coco.getCatIds())\n",
    "nms=[cat['name'] for cat in cats]\n",
    "print('COCO categories: \\n{}\\n'.format(' '.join(nms)))\n",
    "\n",
    "nms = set([cat['supercategory'] for cat in cats])\n",
    "print('COCO supercategories: \\n{}'.format(' '.join(nms)))"
   ]
  },
  {
   "cell_type": "markdown",
   "metadata": {},
   "source": [
    "# Model"
   ]
  },
  {
   "cell_type": "code",
   "execution_count": 5,
   "metadata": {
    "ExecuteTime": {
     "end_time": "2020-01-06T22:56:04.782124Z",
     "start_time": "2020-01-06T22:55:46.295665Z"
    }
   },
   "outputs": [
    {
     "name": "stdout",
     "output_type": "stream",
     "text": [
      "Tensorflow 2.0.0\n",
      "Keras 2.2.4-tf\n"
     ]
    }
   ],
   "source": [
    "from tensorflow.keras.applications import inception_v3 as inc_net\n",
    "from lime import lime_image\n",
    "import requests as r\n",
    "import xml.etree.ElementTree as ET\n",
    "import numpy as np\n",
    "\n",
    "from explanator import Explanator"
   ]
  },
  {
   "cell_type": "code",
   "execution_count": 6,
   "metadata": {
    "ExecuteTime": {
     "end_time": "2020-01-06T22:56:25.615724Z",
     "start_time": "2020-01-06T22:56:04.783858Z"
    }
   },
   "outputs": [],
   "source": [
    "inet_model = inc_net.InceptionV3()\n",
    "explainer = lime_image.LimeImageExplainer()\n",
    "root = ET.fromstring(r.get(\"http://www.image-net.org/api/xml/structure_released.xml\").text)\n",
    "imagenet_classes = eval(r.get(\"https://raw.githubusercontent.com/raghakot/keras-vis/master/resources/imagenet_class_index.json\").text)"
   ]
  },
  {
   "cell_type": "code",
   "execution_count": 7,
   "metadata": {
    "ExecuteTime": {
     "end_time": "2020-01-06T22:56:25.868043Z",
     "start_time": "2020-01-06T22:56:25.617775Z"
    },
    "colab": {},
    "colab_type": "code",
    "id": "u0CAMBFDPCg2"
   },
   "outputs": [],
   "source": [
    "model = Explanator(inet_model=inet_model, explainer=explainer, root=root, imagenet_classes=imagenet_classes)"
   ]
  },
  {
   "cell_type": "markdown",
   "metadata": {},
   "source": [
    "# Quantitative analysis - Cat"
   ]
  },
  {
   "cell_type": "code",
   "execution_count": 8,
   "metadata": {
    "ExecuteTime": {
     "end_time": "2020-01-06T22:56:25.907810Z",
     "start_time": "2020-01-06T22:56:25.870196Z"
    }
   },
   "outputs": [],
   "source": [
    "# drop watershed for this test\n",
    "segmentation_fns = {\n",
    "  'quickshift': {\n",
    "      'kernel_size': 3,\n",
    "      'max_dist': 200,\n",
    "      'ratio': 0.2\n",
    "  },\n",
    "  'felzenszwalb': {\n",
    "      'scale': 100,\n",
    "      'sigma': 2,\n",
    "      'min_size': 50,\n",
    "  },\n",
    "  'slic': {\n",
    "      'compactness': 8,\n",
    "      'n_segments': 1000,\n",
    "      'sigma': 0.9\n",
    "  },\n",
    "#   'watershed': {\n",
    "#       'markers': 100,\n",
    "#       'compactness': 0.001\n",
    "#   },\n",
    "#   'canny': { # to-do: not supported\n",
    "#       'min_size': 10,\n",
    "#       'sigma': 1.8\n",
    "#   },\n",
    "#   'morphological_geodesic_active_contour': { # to-do: not supported\n",
    "#       'iterations': 200,\n",
    "#       'smoothing': 1,\n",
    "#       'balloon' : -1,\n",
    "#       'threshold' : 0.8\n",
    "#   }\n",
    "}"
   ]
  },
  {
   "cell_type": "code",
   "execution_count": 9,
   "metadata": {
    "ExecuteTime": {
     "end_time": "2020-01-06T22:56:25.949296Z",
     "start_time": "2020-01-06T22:56:25.910647Z"
    },
    "colab": {
     "base_uri": "https://localhost:8080/",
     "height": 34
    },
    "colab_type": "code",
    "id": "vXiTy6pjRhT-",
    "outputId": "fc95a2b2-26dd-44d8-a3c5-f21158730118"
   },
   "outputs": [
    {
     "name": "stdout",
     "output_type": "stream",
     "text": [
      "Coco images with category cat: 184\n"
     ]
    }
   ],
   "source": [
    "category = [\"cat\"]\n",
    "catIds = coco.getCatIds(catNms=category);\n",
    "imgIds = coco.getImgIds(catIds=catIds);\n",
    "print(f\"Coco images with category {category[0]}: {len(imgIds)}\")"
   ]
  },
  {
   "cell_type": "code",
   "execution_count": null,
   "metadata": {
    "ExecuteTime": {
     "start_time": "2020-01-06T22:55:38.941Z"
    },
    "scrolled": true
   },
   "outputs": [
    {
     "name": "stdout",
     "output_type": "stream",
     "text": [
      "269314\n",
      "[('n07753592', 'banana', 0.8107299), ('n03355925', 'flagpole', 0.07722583), ('n03944341', 'pinwheel', 0.006936441), ('n04346328', 'stupa', 0.0051602814), ('n01819313', 'sulphur-crested_cockatoo', 0.0037510993)]\n",
      "Start explain_instance\n"
     ]
    },
    {
     "name": "stderr",
     "output_type": "stream",
     "text": [
      " 52% |#####################################                                   |\r"
     ]
    }
   ],
   "source": [
    "%%time\n",
    "results = {}\n",
    "for i in imgIds[1:70]:\n",
    "    print(i)\n",
    "    # easy example 524280\n",
    "    img_md = coco.loadImgs(i)[0]\n",
    "    im, x = model.download_and_preprocess(img_md['coco_url'])\n",
    "    print(model.predict(x))\n",
    "    result = model.explain(x[0], img_md, segmentation_fns, coco, top_labels=1000, num_samples=1000)\n",
    "    results[i] = result"
   ]
  },
  {
   "cell_type": "code",
   "execution_count": null,
   "metadata": {
    "ExecuteTime": {
     "start_time": "2020-01-06T22:55:38.944Z"
    },
    "colab": {
     "base_uri": "https://localhost:8080/",
     "height": 1000
    },
    "colab_type": "code",
    "id": "T04xdRd-uT4_",
    "outputId": "1a7d698b-522d-465b-d85d-7fc070d20c37",
    "scrolled": false
   },
   "outputs": [],
   "source": [
    "# results = model.explain(x[0], img_md, segmentation_fns, num_samples=100)\n",
    "# results is a dictionary containing masks and metrics per segmentation and labels.\n",
    "# it includes also a union mask with its metrics."
   ]
  },
  {
   "cell_type": "markdown",
   "metadata": {},
   "source": [
    "# Segmentation"
   ]
  },
  {
   "cell_type": "code",
   "execution_count": null,
   "metadata": {
    "ExecuteTime": {
     "start_time": "2020-01-06T22:55:38.948Z"
    }
   },
   "outputs": [],
   "source": [
    "# easy example 524280\n",
    "imgIds = coco.getImgIds(imgIds = [416256])\n",
    "img_md = coco.loadImgs(imgIds[np.random.randint(0, len(imgIds))])[0]\n",
    "# img_md = coco.loadImgs(imgIds)\n",
    "\n",
    "im, x = model.download_and_preprocess(img_md['coco_url'])\n",
    "\n",
    "plt.figure(figsize=(10, 10))\n",
    "plt.axis(\"off\")\n",
    "plt.imshow(im)"
   ]
  },
  {
   "cell_type": "code",
   "execution_count": null,
   "metadata": {
    "ExecuteTime": {
     "start_time": "2020-01-06T22:55:38.957Z"
    },
    "colab": {
     "base_uri": "https://localhost:8080/",
     "height": 866
    },
    "colab_type": "code",
    "hide_input": false,
    "id": "bW5LzJm_RK4r",
    "outputId": "cce78ff8-cec2-4076-b5f2-706d1012b35e",
    "scrolled": false
   },
   "outputs": [],
   "source": [
    "##### to-do: future refactoring -> add parameters to segmentation_fns dictionary. Check plot_segmentations method.\n",
    "segmentation_fns = {\n",
    "  'quickshift': {\n",
    "      'kernel_size': 3,\n",
    "      'max_dist': 200,\n",
    "      'ratio': 0.2\n",
    "  }, \n",
    "  'felzenszwalb': {\n",
    "      'scale': 100,\n",
    "      'sigma': 2,\n",
    "      'min_size': 50,\n",
    "  },\n",
    "  'slic': {\n",
    "#        'n_segments': 1000,\n",
    "       'compactness': 8,\n",
    "#        'sigma': 0.9\n",
    "  },\n",
    "  'watershed': {\n",
    "      'markers': 100,\n",
    "      'compactness': 0.001\n",
    "  },\n",
    "#   'canny': {\n",
    "#       'min_size': 10,\n",
    "#       'sigma': 1.8\n",
    "#   },\n",
    "#   'morphological_geodesic_active_contour': {\n",
    "#       'iterations': 200,\n",
    "#       'smoothing': 1,\n",
    "#       'balloon' : -1,\n",
    "#       'threshold' : 0.8\n",
    "#   }\n",
    "}\n",
    "\n",
    "model.plot_segmentations([np.array(im)][0], segmentation_fns)"
   ]
  },
  {
   "cell_type": "code",
   "execution_count": null,
   "metadata": {
    "ExecuteTime": {
     "end_time": "2020-01-06T18:27:07.468243Z",
     "start_time": "2020-01-06T18:27:07.463976Z"
    }
   },
   "outputs": [],
   "source": []
  }
 ],
 "metadata": {
  "accelerator": "GPU",
  "colab": {
   "collapsed_sections": [],
   "name": "II2202.ipynb",
   "provenance": [],
   "toc_visible": true
  },
  "kernelspec": {
   "display_name": "xai3.7",
   "language": "python",
   "name": "xai3.7"
  },
  "language_info": {
   "codemirror_mode": {
    "name": "ipython",
    "version": 3
   },
   "file_extension": ".py",
   "mimetype": "text/x-python",
   "name": "python",
   "nbconvert_exporter": "python",
   "pygments_lexer": "ipython3",
   "version": "3.7.6"
  }
 },
 "nbformat": 4,
 "nbformat_minor": 1
}
